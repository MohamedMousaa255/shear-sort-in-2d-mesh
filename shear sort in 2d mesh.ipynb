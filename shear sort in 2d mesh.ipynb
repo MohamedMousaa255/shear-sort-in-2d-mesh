{
 "cells": [
  {
   "cell_type": "code",
   "execution_count": 73,
   "id": "d6dfb813",
   "metadata": {},
   "outputs": [],
   "source": [
    " import pandas as pd\n",
    "import numpy as np\n",
    "two_D_mesh=[[42, 53, 16,  8],\n",
    "       [41,  9, 11, 67],\n",
    "       [29, 13, 21,  5],\n",
    "       [10, 22, 49,  3]]"
   ]
  },
  {
   "cell_type": "code",
   "execution_count": 74,
   "id": "c7e53087",
   "metadata": {},
   "outputs": [
    {
     "name": "stdout",
     "output_type": "stream",
     "text": [
      "odd--even\n",
      "    0   1   2   3\n",
      "0   8  16  42  53\n",
      "1  67  41  11   9\n",
      "2   5  13  21  29\n",
      "3  49  22  10   3\n",
      "top--dowen\n",
      "    0   1   2   3\n",
      "0   5  13  10   3\n",
      "1   8  16  11   9\n",
      "2  49  22  21  29\n",
      "3  67  41  42  53\n",
      "odd--even\n",
      "    0   1   2   3\n",
      "0   3   5  10  13\n",
      "1  16  11   9   8\n",
      "2  21  22  29  49\n",
      "3  67  53  42  41\n",
      "top--dowen\n",
      "    0   1   2   3\n",
      "0   3   5   9   8\n",
      "1  16  11  10  13\n",
      "2  21  22  29  41\n",
      "3  67  53  42  49\n",
      "odd--even\n",
      "    0   1   2   3\n",
      "0   3   5   8   9\n",
      "1  16  13  11  10\n",
      "2  21  22  29  41\n",
      "3  67  53  49  42\n",
      "top--dowen\n",
      "    0   1   2   3\n",
      "0   3   5   8   9\n",
      "1  16  13  11  10\n",
      "2  21  22  29  41\n",
      "3  67  53  49  42\n"
     ]
    }
   ],
   "source": [
    "##odd ,even row sort :\n",
    "##forloop to do the odd,even sort and top dowen together lengthe of the loop is root(N)\n",
    "for x in range (len(two_D_mesh)):\n",
    "    ##forloop to do the odd row ascending order and the even row descending orderr\n",
    "    for x in range (len(two_D_mesh)):\n",
    "        if x%2 ==0:\n",
    "            two_D_mesh[x].sort( reverse=False)\n",
    "        else:\n",
    "            two_D_mesh[x].sort( reverse=True)\n",
    "    ##convert 2d array to dataframe to applay top dowen sort on it \n",
    "    df = pd.DataFrame(two_D_mesh)\n",
    "    print(\"odd--even\")\n",
    "    print(df)\n",
    "    ##applay the top dowen sort on the columns\n",
    "    df = pd.DataFrame(np.sort(df.values, axis=0), index=df.index, columns=df.columns)\n",
    "    print(\"top--dowen\")\n",
    "    print(df)\n",
    "    ##return the dataframe to list to return applay odd even and so on \n",
    "    two_D_mesh1=df.values.tolist()\n",
    "    ##compare after and before to know if reach to the sloution \n",
    "    if two_D_mesh1==two_D_mesh:\n",
    "        break \n",
    "    else:\n",
    "        two_D_mesh=two_D_mesh1\n",
    "    \n"
   ]
  },
  {
   "cell_type": "code",
   "execution_count": null,
   "id": "f02b0f62",
   "metadata": {},
   "outputs": [],
   "source": []
  }
 ],
 "metadata": {
  "kernelspec": {
   "display_name": "Python 3 (ipykernel)",
   "language": "python",
   "name": "python3"
  },
  "language_info": {
   "codemirror_mode": {
    "name": "ipython",
    "version": 3
   },
   "file_extension": ".py",
   "mimetype": "text/x-python",
   "name": "python",
   "nbconvert_exporter": "python",
   "pygments_lexer": "ipython3",
   "version": "3.9.12"
  }
 },
 "nbformat": 4,
 "nbformat_minor": 5
}
